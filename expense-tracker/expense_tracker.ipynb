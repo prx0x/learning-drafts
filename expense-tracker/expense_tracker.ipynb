{
 "cells": [
  {
   "cell_type": "code",
   "execution_count": 35,
   "id": "5a35b044-d435-4b6d-8189-eeeeb78d7254",
   "metadata": {},
   "outputs": [],
   "source": [
    "import numpy as np\n",
    "import os\n",
    "import csv\n",
    "from time import strftime\n",
    "from datetime import date, timedelta\n",
    "\n",
    "today = date.today()\n",
    "yesterday = today - timedelta(days=1)"
   ]
  },
  {
   "cell_type": "code",
   "execution_count": 36,
   "id": "6eb6470f-1a0c-4a04-aa16-892c72630c5a",
   "metadata": {},
   "outputs": [],
   "source": [
    "class Expense_Tracker:\n",
    "    expenses_array = []\n",
    "    def __init__(self, date:'YYYY-MM-DD', amount:float, category_code:int):\n",
    "        self.date = date\n",
    "        if self.date == 'today':\n",
    "            self.date = today.strftime('%Y-%m-%d')\n",
    "        elif self.date == 'yesterday':\n",
    "            self.date = yesterday.strftime('%Y-%m-%d')\n",
    "        else:\n",
    "            self.date = date\n",
    "        self.amount = amount\n",
    "        self.category_code = category_code\n",
    "        self.array = [self.date, self.amount, self.category_code]\n",
    "        Expense_Tracker.expenses_array.append (self.array)\n",
    "        \n",
    "    @staticmethod\n",
    "    def total_expense():\n",
    "        numpy_array = np.array(Expense_Tracker.expenses_array)\n",
    "        array_for_expense = numpy_array[:, 1]\n",
    "        array_for_expense = np.array(array_for_expense, dtype = 'int32')\n",
    "        print (np.sum(array_for_expense))\n",
    "\n",
    "    def __add__(self, exp):\n",
    "        return self.amount + exp.amount\n",
    "\n",
    "    def __repr__(self):\n",
    "        return f'On {self.date}, you spent {self.amount} INR under Expense-Code {self.category_code} for this Expense'\n",
    "    \n",
    "    def showDetails(self):\n",
    "        print (self.array)\n",
    "\n",
    "    @staticmethod\n",
    "    def transaction_history():\n",
    "        return np.array(Expense_Tracker.expenses_array)\n",
    "\n",
    "    @staticmethod\n",
    "    def sort_asc(threshold=0):\n",
    "        numpy_array = np.array(Expense_Tracker.expenses_array, dtype = object)\n",
    "        copied_data = numpy_array.copy()\n",
    "        sorted_indices = np.argsort (copied_data[:, 1].astype('int'))[::1]\n",
    "        return numpy_array[sorted_indices]\n",
    "\n",
    "    @staticmethod\n",
    "    def sort_dsc(threshold=0):\n",
    "        numpy_array = np.array(Expense_Tracker.expenses_array, dtype = object)\n",
    "        copied_data = numpy_array.copy()\n",
    "        sorted_indices = np.argsort (copied_data[:, 1].astype('int'))[::-1]\n",
    "        return numpy_array[sorted_indices]\n",
    "\n",
    "    @staticmethod\n",
    "    def show_big_expenses(threshold=1000):\n",
    "        numpy_array = np.array(Expense_Tracker.expenses_array, dtype=object)\n",
    "        amount = numpy_array[:, 1].astype(int)\n",
    "        mask = amount > 1000\n",
    "        filtered = numpy_array[mask]\n",
    "        sorted_indices = np.argsort(filtered[:, 1].astype(int))[::-1]\n",
    "        return filtered[sorted_indices]\n",
    "\n",
    "    @staticmethod\n",
    "    def sort_date_latest():\n",
    "        numpy_array = np.array(Expense_Tracker.expenses_array, dtype=object)\n",
    "        copydata = np.copy(numpy_array)\n",
    "        sorted_indices = np.argsort(copydata[:, 0].astype('datetime64[D]'))[::-1]\n",
    "        return copydata[sorted_indices]\n",
    "        \n",
    "    @staticmethod\n",
    "    def sort_date_oldest():\n",
    "        numpy_array = np.array(Expense_Tracker.expenses_array, dtype=object)\n",
    "        copydata = np.copy(numpy_array)\n",
    "        sorted_indices = np.argsort(copydata[:, 0].astype('datetime64[D]'))[::1]\n",
    "        return copydata[sorted_indices]\n",
    "    \n",
    "    @classmethod\n",
    "    def export_all(cls):\n",
    "        try:\n",
    "            np.savetxt('expense_transaction.csv', Expense_Tracker.sort_date_latest(), fmt='%s', header='Date, Amount, Code',  delimiter= ', ', comments='')\n",
    "            print ('Success While Importing the Data!')\n",
    "        except Exception as e:\n",
    "            print (f'error {e} while Exporting the Data!')"
   ]
  },
  {
   "cell_type": "code",
   "execution_count": 40,
   "id": "a4bbe4de-2d9e-4785-86a2-9d2ffdecf28f",
   "metadata": {
    "scrolled": true
   },
   "outputs": [],
   "source": [
    "Expense_Tracker.expenses_array.clear()\n",
    "exp_1 = Expense_Tracker('today', 9000, 1)\n",
    "exp_2 = Expense_Tracker('2024-06-10', 440, 2)\n",
    "exp_3 = Expense_Tracker('2024-07-10', 1500, 3)\n",
    "exp_4 = Expense_Tracker('2025-10-02', 700, 3)\n",
    "exp_5 = Expense_Tracker('2024-01-31', 900, 3)\n",
    "exp_6 = Expense_Tracker('2024-01-01', 3700, 3)\n",
    "exp_7 = Expense_Tracker('yesterday', 7000, 1)"
   ]
  },
  {
   "cell_type": "code",
   "execution_count": 41,
   "id": "b22fdb4a-d7e5-464e-9e01-52ea32f64afb",
   "metadata": {},
   "outputs": [
    {
     "name": "stdout",
     "output_type": "stream",
     "text": [
      "Success While Importing the Data!\n"
     ]
    }
   ],
   "source": [
    "Expense_Tracker.total_expense()\n",
    "print ('_______'*20)\n",
    "print (exp_1)\n",
    "print (exp_2)\n",
    "print (exp_3)\n",
    "print ('_______'*20)\n",
    "print (exp_1 + exp_3)\n",
    "print ('_______'*20)\n",
    "print (Expense_Tracker.transaction_history())\n",
    "print ('_______'*20)\n",
    "exp_1.showDetails()\n",
    "print ('_______'*20)\n",
    "print (Expense_Tracker.sort_asc())\n",
    "print ('_______'*20)\n",
    "print (Expense_Tracker.sort_dsc())\n",
    "print ('_______'*20)\n",
    "print (Expense_Tracker.show_big_expenses())\n",
    "print ('_______'*20)\n",
    "print (Expense_Tracker.sort_date_latest())\n",
    "print ('_______'*20)\n",
    "print (Expense_Tracker.sort_date_oldest())\n",
    "print ('_______'*20)\n",
    "Expense_Tracker.export_all()"
   ]
  }
 ],
 "metadata": {
  "kernelspec": {
   "display_name": "Python 3 (ipykernel)",
   "language": "python",
   "name": "python3"
  },
  "language_info": {
   "codemirror_mode": {
    "name": "ipython",
    "version": 3
   },
   "file_extension": ".py",
   "mimetype": "text/x-python",
   "name": "python",
   "nbconvert_exporter": "python",
   "pygments_lexer": "ipython3",
   "version": "3.12.9"
  }
 },
 "nbformat": 4,
 "nbformat_minor": 5
}
